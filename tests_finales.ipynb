{
 "cells": [
  {
   "cell_type": "markdown",
   "metadata": {
    "application/vnd.databricks.v1+cell": {
     "cellMetadata": {},
     "inputWidgets": {},
     "nuid": "8b8f26b1-4a98-4fb4-861e-05320760cd89",
     "showTitle": false,
     "tableResultSettingsMap": {},
     "title": ""
    },
    "id": "lv6DO-LM_aMn"
   },
   "source": [
    "# Práctica spark sql (Etapa 2)"
   ]
  },
  {
   "cell_type": "code",
   "execution_count": 0,
   "metadata": {
    "application/vnd.databricks.v1+cell": {
     "cellMetadata": {
      "byteLimit": 2048000,
      "rowLimit": 10000
     },
     "inputWidgets": {},
     "nuid": "45ffb042-ee18-4bf5-9566-39e43241f699",
     "showTitle": false,
     "tableResultSettingsMap": {},
     "title": ""
    }
   },
   "outputs": [],
   "source": [
    "spark.conf.set(\"fs.azure.account.key.almacenamientomario.dfs.core.windows.net\", \"RiNuZsrg5PbT7l08WnsAWa+MBTophcjIU8yXBetm+oABT0iskgVvdxZIgg3Jk3nJI6Dce9re5YjL+AStZuy3bg==\")"
   ]
  },
  {
   "cell_type": "markdown",
   "metadata": {
    "application/vnd.databricks.v1+cell": {
     "cellMetadata": {},
     "inputWidgets": {},
     "nuid": "addba2d5-9bff-4ebf-954b-b40aa12172db",
     "showTitle": false,
     "tableResultSettingsMap": {},
     "title": ""
    }
   },
   "source": [
    "### Probamos el módulo\n"
   ]
  },
  {
   "cell_type": "code",
   "execution_count": 0,
   "metadata": {
    "application/vnd.databricks.v1+cell": {
     "cellMetadata": {
      "byteLimit": 2048000,
      "rowLimit": 10000
     },
     "inputWidgets": {},
     "nuid": "8df91ad4-4483-474d-ba59-24314c6ed038",
     "showTitle": false,
     "tableResultSettingsMap": {},
     "title": ""
    }
   },
   "outputs": [
    {
     "output_type": "stream",
     "name": "stdout",
     "output_type": "stream",
     "text": [
      "Processing ./dist/toronto_bike-0.0.1-py3-none-any.whl\nCollecting requests (from toronto-bike==0.0.1)\n  Using cached requests-2.32.3-py3-none-any.whl.metadata (4.6 kB)\nCollecting charset-normalizer<4,>=2 (from requests->toronto-bike==0.0.1)\n  Using cached charset_normalizer-3.4.1-cp312-cp312-manylinux_2_17_x86_64.manylinux2014_x86_64.whl.metadata (35 kB)\nCollecting idna<4,>=2.5 (from requests->toronto-bike==0.0.1)\n  Using cached idna-3.10-py3-none-any.whl.metadata (10 kB)\nCollecting urllib3<3,>=1.21.1 (from requests->toronto-bike==0.0.1)\n  Using cached urllib3-2.3.0-py3-none-any.whl.metadata (6.5 kB)\nCollecting certifi>=2017.4.17 (from requests->toronto-bike==0.0.1)\n  Downloading certifi-2025.1.31-py3-none-any.whl.metadata (2.5 kB)\nUsing cached requests-2.32.3-py3-none-any.whl (64 kB)\nDownloading certifi-2025.1.31-py3-none-any.whl (166 kB)\n\u001B[?25l   \u001B[90m━━━━━━━━━━━━━━━━━━━━━━━━━━━━━━━━━━━━━━━━\u001B[0m \u001B[32m0.0/166.4 kB\u001B[0m \u001B[31m?\u001B[0m eta \u001B[36m-:--:--\u001B[0m\n\u001B[2K   \u001B[90m━━━━━━━━━━━━━━━━━━━━━━━━━━━━━━━━━━━━━━━━\u001B[0m \u001B[32m166.4/166.4 kB\u001B[0m \u001B[31m6.5 MB/s\u001B[0m eta \u001B[36m0:00:00\u001B[0m\n\u001B[?25hUsing cached charset_normalizer-3.4.1-cp312-cp312-manylinux_2_17_x86_64.manylinux2014_x86_64.whl (145 kB)\nUsing cached idna-3.10-py3-none-any.whl (70 kB)\nUsing cached urllib3-2.3.0-py3-none-any.whl (128 kB)\nInstalling collected packages: urllib3, idna, charset-normalizer, certifi, requests, toronto-bike\n  Attempting uninstall: urllib3\n    Found existing installation: urllib3 1.26.16\n    Not uninstalling urllib3 at /databricks/python3/lib/python3.12/site-packages, outside environment /local_disk0/.ephemeral_nfs/envs/pythonEnv-e848ad10-4dff-45f3-b35b-ca1796b37ac1\n    Can't uninstall 'urllib3'. No files were found to uninstall.\n  Attempting uninstall: idna\n    Found existing installation: idna 3.7\n    Not uninstalling idna at /databricks/python3/lib/python3.12/site-packages, outside environment /local_disk0/.ephemeral_nfs/envs/pythonEnv-e848ad10-4dff-45f3-b35b-ca1796b37ac1\n    Can't uninstall 'idna'. No files were found to uninstall.\n  Attempting uninstall: charset-normalizer\n    Found existing installation: charset-normalizer 2.0.4\n    Not uninstalling charset-normalizer at /databricks/python3/lib/python3.12/site-packages, outside environment /local_disk0/.ephemeral_nfs/envs/pythonEnv-e848ad10-4dff-45f3-b35b-ca1796b37ac1\n    Can't uninstall 'charset-normalizer'. No files were found to uninstall.\n  Attempting uninstall: certifi\n    Found existing installation: certifi 2024.6.2\n    Not uninstalling certifi at /databricks/python3/lib/python3.12/site-packages, outside environment /local_disk0/.ephemeral_nfs/envs/pythonEnv-e848ad10-4dff-45f3-b35b-ca1796b37ac1\n    Can't uninstall 'certifi'. No files were found to uninstall.\n  Attempting uninstall: requests\n    Found existing installation: requests 2.32.2\n    Not uninstalling requests at /databricks/python3/lib/python3.12/site-packages, outside environment /local_disk0/.ephemeral_nfs/envs/pythonEnv-e848ad10-4dff-45f3-b35b-ca1796b37ac1\n    Can't uninstall 'requests'. No files were found to uninstall.\n\u001B[31mERROR: pip's dependency resolver does not currently take into account all the packages that are installed. This behaviour is the source of the following dependency conflicts.\ngoogle-auth 2.21.0 requires urllib3<2.0, but you have urllib3 2.3.0 which is incompatible.\u001B[0m\u001B[31m\n\u001B[0mSuccessfully installed certifi-2025.1.31 charset-normalizer-3.4.1 idna-3.10 requests-2.32.3 toronto-bike-0.0.1 urllib3-2.3.0\n\u001B[43mNote: you may need to restart the kernel using %restart_python or dbutils.library.restartPython() to use updated packages.\u001B[0m\n"
     ]
    }
   ],
   "source": [
    "%pip install --force-reinstall  ./dist/toronto_bike-0.0.1-py3-none-any.whl"
   ]
  },
  {
   "cell_type": "code",
   "execution_count": 0,
   "metadata": {
    "application/vnd.databricks.v1+cell": {
     "cellMetadata": {
      "byteLimit": 2048000,
      "rowLimit": 10000
     },
     "inputWidgets": {},
     "nuid": "d7b1941d-ae38-4e95-9154-5d93af73b1a0",
     "showTitle": false,
     "tableResultSettingsMap": {},
     "title": ""
    }
   },
   "outputs": [],
   "source": [
    "%restart_python"
   ]
  },
  {
   "cell_type": "code",
   "execution_count": 0,
   "metadata": {
    "application/vnd.databricks.v1+cell": {
     "cellMetadata": {
      "byteLimit": 2048000,
      "rowLimit": 10000
     },
     "inputWidgets": {},
     "nuid": "29fc91cf-7393-49f1-b0b7-a749ac48e7ed",
     "showTitle": false,
     "tableResultSettingsMap": {},
     "title": ""
    }
   },
   "outputs": [
    {
     "output_type": "stream",
     "name": "stderr",
     "output_type": "stream",
     "text": [
      "/Workspace/Users/marbaldo@ucm.es/toronto/toronto_bike/UrlToronto.py:44: SyntaxWarning: invalid escape sequence '\\d'\n  \"bikeshare-ridership-\\d{4}.zip$\",\n"
     ]
    }
   ],
   "source": [
    "from  toronto_bike.UrlToronto import UrlToronto\n",
    "temporal ='carpeta_temporal'\n",
    "downloader = UrlToronto(temporal)\n",
    "path_csv = downloader.download_csv('2023', '01')"
   ]
  },
  {
   "cell_type": "code",
   "execution_count": 0,
   "metadata": {
    "application/vnd.databricks.v1+cell": {
     "cellMetadata": {
      "byteLimit": 2048000,
      "rowLimit": 10000
     },
     "inputWidgets": {},
     "nuid": "16f07c9b-75d0-4d54-a7ad-68b305f61a6d",
     "showTitle": false,
     "tableResultSettingsMap": {},
     "title": ""
    }
   },
   "outputs": [],
   "source": [
    "# Si lo habéis hecho bien, esta celda no debe producir ninguna salida\n",
    "assert(path_csv == 'carpeta_temporal/bikeshare-ridership-2023/Bike share ridership 2023-01.csv')"
   ]
  },
  {
   "cell_type": "code",
   "execution_count": 0,
   "metadata": {
    "application/vnd.databricks.v1+cell": {
     "cellMetadata": {
      "byteLimit": 2048000,
      "rowLimit": 10000
     },
     "inputWidgets": {},
     "nuid": "366f998b-aadd-435e-9fe9-5efeb75598f3",
     "showTitle": false,
     "tableResultSettingsMap": {},
     "title": ""
    }
   },
   "outputs": [
    {
     "output_type": "stream",
     "name": "stdout",
     "output_type": "stream",
     "text": [
      "['Trip Id', 'Trip  Duration', 'Start Station Id', 'Start Time', 'Start Station Name', 'End Station Id', 'End Time', 'End Station Name', 'Bike Id', 'User Type']\n"
     ]
    }
   ],
   "source": [
    "from  toronto_bike.BikeToronto import BikeToronto\n",
    "\n",
    "params = 'parametros.json'\n",
    "year = '2023'\n",
    "month = '05'\n",
    "\n",
    "# implementar las llamadas para la creación del dataframe\n",
    "bike_toronto = BikeToronto(params)\n",
    "\n",
    "df = bike_toronto.crear_df(year, month)\n",
    "print(df.columns)"
   ]
  },
  {
   "cell_type": "markdown",
   "metadata": {
    "application/vnd.databricks.v1+cell": {
     "cellMetadata": {},
     "inputWidgets": {},
     "nuid": "6c00f631-76a7-4335-83be-34ffaaff5fb5",
     "showTitle": false,
     "tableResultSettingsMap": {},
     "title": ""
    }
   },
   "source": [
    "Algunos tests"
   ]
  },
  {
   "cell_type": "code",
   "execution_count": 0,
   "metadata": {
    "application/vnd.databricks.v1+cell": {
     "cellMetadata": {
      "byteLimit": 2048000,
      "rowLimit": 10000
     },
     "inputWidgets": {},
     "nuid": "e273be68-6cdb-4515-8d2b-733d2fb03e27",
     "showTitle": false,
     "tableResultSettingsMap": {},
     "title": ""
    }
   },
   "outputs": [],
   "source": [
    "# Si lo habéis hecho bien, esta celda no debe producir ninguna salida\n",
    "assert(len(df.columns) == 10)\n",
    "assert(df.count() == 589217)\n",
    "df_casual, df_anual = bike_toronto.procesar_df(df)\n",
    "assert(df_casual.count() + df_anual.count() == df.count())"
   ]
  },
  {
   "cell_type": "markdown",
   "metadata": {
    "application/vnd.databricks.v1+cell": {
     "cellMetadata": {},
     "inputWidgets": {},
     "nuid": "91b60ca6-ae35-4ec3-8f46-79559a65424a",
     "showTitle": false,
     "tableResultSettingsMap": {},
     "title": ""
    }
   },
   "source": [
    "## Tests\n",
    "\n",
    "Define los tests que creas necesarios para comprobar que las clases funcionan correctamente. Los tests deberán estar en un directorio independiente, dentro del proyecto, pero no en el paquete que se distibuye.\n",
    "\n",
    "## Docstrings  y anotaciones de tipos\n",
    "\n",
    "Completar los docstring de todas las funciones. Anotar los tipos de las funciones.\n",
    "\n",
    "\n",
    "## Entrega en el CV\n",
    "La entrega consisitirá en un fichero comprimido `zip` con lo siguiente:\n",
    "- Fichero `whl` con el instalable del paquete generado\n",
    "- Los ficheros del paquete desarrollado, incluyendo los tests.\n",
    "- Este cuaderno de jupyter con las pruebas necesarias usando la clase `BikeToronto`\n",
    "\n"
   ]
  }
 ],
 "metadata": {
  "application/vnd.databricks.v1+notebook": {
   "computePreferences": null,
   "dashboards": [],
   "environmentMetadata": null,
   "language": "python",
   "notebookMetadata": {
    "mostRecentlyExecutedCommandWithImplicitDF": {
     "commandId": 2648705955368660,
     "dataframes": [
      "_sqldf"
     ]
    },
    "pythonIndentUnit": 4
   },
   "notebookName": "tests_finales",
   "widgets": {}
  },
  "colab": {
   "provenance": [],
   "toc_visible": true
  },
  "hide_input": false,
  "kernelspec": {
   "display_name": "Python 3",
   "language": "python",
   "name": "python3"
  },
  "language_info": {
   "name": "python"
  },
  "nbTranslate": {
   "displayLangs": [
    "en",
    "es"
   ],
   "hotkey": "alt-t",
   "langInMainMenu": true,
   "sourceLang": "es",
   "targetLang": "en",
   "useGoogleTranslate": true
  },
  "toc": {
   "base_numbering": 1,
   "nav_menu": {},
   "number_sections": true,
   "sideBar": true,
   "skip_h1_title": false,
   "title_cell": "Table of Contents",
   "title_sidebar": "Contents",
   "toc_cell": false,
   "toc_position": {
    "height": "calc(100% - 180px)",
    "left": "10px",
    "top": "150px",
    "width": "224px"
   },
   "toc_section_display": true,
   "toc_window_display": true
  }
 },
 "nbformat": 4,
 "nbformat_minor": 0
}